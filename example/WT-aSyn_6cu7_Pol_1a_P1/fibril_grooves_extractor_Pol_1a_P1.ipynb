{
 "cells": [
  {
   "cell_type": "markdown",
   "id": "064759b0-ae98-438b-82d2-65f99e105244",
   "metadata": {
    "tags": []
   },
   "source": [
    "## This notebook is to extract fibril site surface *(i.e., Pocket)*"
   ]
  },
  {
   "cell_type": "markdown",
   "id": "c1346462-8fe1-4782-b7d4-db3f9ca90ef2",
   "metadata": {
    "tags": []
   },
   "source": [
    "### 1.0 Libraries"
   ]
  },
  {
   "cell_type": "code",
   "execution_count": null,
   "id": "a707120b-56a8-4fd5-b3d2-f5cec1295053",
   "metadata": {
    "tags": []
   },
   "outputs": [],
   "source": [
    "from fibrilsite import *"
   ]
  },
  {
   "cell_type": "markdown",
   "id": "b5bf1432-bb7d-4dd2-a0b4-f096a10f7e62",
   "metadata": {},
   "source": [
    "### 2.0 I/O"
   ]
  },
  {
   "cell_type": "code",
   "execution_count": null,
   "id": "7f8756d8-a3f4-4147-827f-8d1408e35b02",
   "metadata": {},
   "outputs": [],
   "source": [
    "# pocket id\n",
    "pocket_id = 'Pol_1a_P1'\n",
    "\n",
    "# start res info\n",
    "start_resid = 85\n",
    "start_atom  = 'HB1'\n",
    "    \n",
    "# end res info\n",
    "end_resid = 97\n",
    "end_atom  = 'HZ1'\n",
    "\n",
    "# Guard res info\n",
    "guard_start_resid = 83\n",
    "guard_start_atom  = 'C'\n",
    "\n",
    "guard_end_resid   = 97\n",
    "guard_end_atom    = 'O'\n",
    "\n",
    "# groove segmentation\n",
    "start_groove_chains = ['I', 'G', 'C', 'E', 'A']\n",
    "end_groove_chains   = ['I', 'G', 'C', 'E', 'A']\n",
    "\n",
    "start_groove_resids = [85,86,87,90,92,95,97,]\n",
    "end_groove_resids   = [85,86,87,90,92,95,97,]\n",
    "\n",
    "# path to pdb file\n",
    "pdb_file = \"./6cu7_ABCDEFGHIJ.pdb\"\n",
    "\n",
    "# path to ply file\n",
    "ply_file = \"./MaSIF_output/pred_surfaces/6cu7_ABCDEFGHIJ.ply\"\n",
    "\n",
    "# struct chains\n",
    "parser = PDBParser(QUIET=1)\n",
    "struct = parser.get_structure(os.path.basename(pdb_file).split('_')[0], pdb_file)[0]\n",
    "chains = [chain.id for chain in struct]"
   ]
  },
  {
   "cell_type": "code",
   "execution_count": null,
   "id": "5b6892bb-ed06-4858-9095-3534887d16f0",
   "metadata": {},
   "outputs": [],
   "source": [
    "# make output dir\n",
    "output = os.path.join(os.path.abspath(\".\"), str(datetime.date.today()) +\"_\"+ str(os.path.basename(pdb_file).split(\"_\")[0]) +\"_\"+ pocket_id)\n",
    "os.makedirs(output, exist_ok=False)"
   ]
  },
  {
   "cell_type": "code",
   "execution_count": null,
   "id": "46a25974-b9a5-4593-8c50-4f1de4a6722c",
   "metadata": {},
   "outputs": [],
   "source": [
    "# Data file output\n",
    "with open(f\"{output}/{datetime.date.today()}_{os.path.basename(pdb_file).replace('.pdb','')}_{pocket_id}_params.txt\",'w') as w:\n",
    "    w.write(f'{datetime.date.today()}' + '\\n')\n",
    "    w.write(f'Pocket id: {pocket_id}' + '\\n')\n",
    "    w.write(f'PDB file: {pdb_file}'  + '\\n')\n",
    "    w.write(f'PLY file: {ply_file}'  + '\\n')\n",
    "    w.write(f'Start resid: {start_resid}, Start atom: {start_atom}' + '\\n')\n",
    "    w.write(f'End resid: {end_resid}, End atom: {end_atom}' + '\\n')\n",
    "    w.write(f'Guard start resid: {guard_start_resid}, Guard start atom: {guard_start_atom}' + '\\n')\n",
    "    w.write(f'Guard end resid: {guard_end_resid}, Guard end atom: {guard_end_atom}' + '\\n')\n",
    "    w.write(f'Start groove chains: {start_groove_chains}, Start groove resids: {start_groove_resids}' + '\\n')\n",
    "    w.write(f'End groove chains: {end_groove_chains}, End groove resids: {end_groove_resids}' + '\\n')\n",
    "print('Gedruckt')"
   ]
  },
  {
   "cell_type": "markdown",
   "id": "792df870-88a7-4177-aca3-f5e56ca62315",
   "metadata": {
    "tags": []
   },
   "source": [
    "### 3.0 Parse"
   ]
  },
  {
   "cell_type": "code",
   "execution_count": null,
   "id": "a5652473-ac16-4038-bbd9-2671062e6c02",
   "metadata": {},
   "outputs": [],
   "source": [
    "# parse pdbs and calculate per atom sasa\n",
    "df_atom_sasa = pdb_parser_and_per_atom_sasa_calculator(\n",
    "    out_path=output,\n",
    "    pdb_file=pdb_file,\n",
    "    probe_r=1.4,\n",
    ")\n",
    "print(df_atom_sasa.shape)\n",
    "df_atom_sasa.head()"
   ]
  },
  {
   "cell_type": "code",
   "execution_count": null,
   "id": "247ccbfa-5a23-4fa2-ad9c-71b1a4d26470",
   "metadata": {},
   "outputs": [],
   "source": [
    "# parse ply file\n",
    "df_surf = ply_parser(out_path=output, \n",
    "                     ply_file=ply_file,\n",
    "                    )\n",
    "print(df_surf.shape)\n",
    "df_surf.head()"
   ]
  },
  {
   "cell_type": "markdown",
   "id": "1c9625f8-e18d-4926-bfa5-41a16f980a7a",
   "metadata": {
    "tags": []
   },
   "source": [
    "### 4.0 Get the main vectors"
   ]
  },
  {
   "cell_type": "code",
   "execution_count": null,
   "id": "4f4a6705-20a7-4ee4-b59c-de04c325478f",
   "metadata": {},
   "outputs": [],
   "source": [
    "# calculate eignenvectors\n",
    "side, perpend, major = calculate_eigenvectors(pdb_file=pdb_file, \n",
    "                                              anchor_residues=[53,], \n",
    "                                              anchor_chains= start_groove_chains\n",
    "                                             )\n",
    "\n",
    "fibril_axis = np.array(major)\n",
    "print(f\"fibril elongation axis {major}\")"
   ]
  },
  {
   "cell_type": "code",
   "execution_count": null,
   "id": "93da0da9-931f-4776-9278-28bc22b0f1ca",
   "metadata": {},
   "outputs": [],
   "source": [
    "# visualize the major vector\n",
    "vector_xyz_writer(out_path=output, \n",
    "                  file_name='major_eigenvector', \n",
    "                  vector=fibril_axis,  \n",
    "                  element='C',)"
   ]
  },
  {
   "cell_type": "markdown",
   "id": "85b65043-888f-490e-bc4b-402509f15249",
   "metadata": {},
   "source": [
    "### 5.0 Isolate the pocket surface"
   ]
  },
  {
   "cell_type": "code",
   "execution_count": null,
   "id": "9995f268-f2fd-47e0-a393-d9d614cfe027",
   "metadata": {
    "tags": []
   },
   "outputs": [],
   "source": [
    "# get side surface points\n",
    "df_side_surf = isolate_fibril_side(\n",
    "    out_path=output,\n",
    "    pdb_file=pdb_file,\n",
    "    df=df_surf,\n",
    "    fibril_axis=fibril_axis,\n",
    ")\n",
    "print(df_side_surf.shape)\n",
    "df_side_surf.head()"
   ]
  },
  {
   "cell_type": "code",
   "execution_count": null,
   "id": "4df3b832-3ad3-4101-807e-edc87dfc0dc7",
   "metadata": {},
   "outputs": [],
   "source": [
    "# visualize the merged points\n",
    "pymol_xyz_writer(\n",
    "    out_path=output,\n",
    "    file_name=\"side_surface_points\",\n",
    "    df=df_side_surf,\n",
    "    coords_column=\"surf_coords\",\n",
    "    element=\"C\",\n",
    ")"
   ]
  },
  {
   "cell_type": "code",
   "execution_count": null,
   "id": "3c7441dc-1882-4022-a2e0-396d6551c9f0",
   "metadata": {},
   "outputs": [],
   "source": [
    "# isolate the pocket \n",
    "df_pocket_coords = pocket_getter(\n",
    "    df=df_atom_sasa,\n",
    "    pocket_name=pocket_id,\n",
    "    pdb_file=pdb_file,\n",
    "    out_path=output,\n",
    "    sym=False,\n",
    "    chains_asym_1=start_groove_chains,\n",
    "    chains_asym_1_resids=start_groove_resids,\n",
    "    chains_asym_2=end_groove_chains,\n",
    "    chains_asym_2_resids=end_groove_resids,\n",
    ")\n",
    "print(df_pocket_coords.shape)\n",
    "df_pocket_coords.head()"
   ]
  },
  {
   "cell_type": "code",
   "execution_count": null,
   "id": "d7dcb191-41bc-4ca1-a0e0-e3e8ee2a24ac",
   "metadata": {},
   "outputs": [],
   "source": [
    "# write out the pocket coords\n",
    "with open(f\"{output}/pocket_coods.xyz\", \"w\") as w:\n",
    "    for coords in df_pocket_coords['coords']:\n",
    "        coords = coords.tolist()\n",
    "        w.write(f'C {coords[0]} {coords[1]} {coords[2]} \\n')"
   ]
  },
  {
   "cell_type": "code",
   "execution_count": null,
   "id": "a1576ba5-ea20-47a8-b6d9-b6925334ac2c",
   "metadata": {},
   "outputs": [],
   "source": [
    "# map surface to atomic coordinates\n",
    "df_pocket_surf = surface_atomic_coords_mapper(\n",
    "    out_path=output,\n",
    "    df_surf=df_side_surf,\n",
    "    df_atomic=df_pocket_coords,\n",
    "    threshold=3.0,\n",
    "    pdb_file=pdb_file,\n",
    ")\n",
    "print(df_pocket_surf.shape)\n",
    "df_pocket_surf.head()"
   ]
  },
  {
   "cell_type": "code",
   "execution_count": null,
   "id": "bbf66458-5b74-4a9f-bcb8-3fd8d16d1579",
   "metadata": {},
   "outputs": [],
   "source": [
    "# visualize the pocket surface\n",
    "pymol_xyz_writer(\n",
    "    out_path=output,\n",
    "    file_name=f\"{pocket_id}_pocket_surface\",\n",
    "    df=df_pocket_surf,\n",
    "    coords_column=\"surf_coords\",\n",
    "    element=\"C\",\n",
    ")"
   ]
  },
  {
   "cell_type": "markdown",
   "id": "5439dd49-9ce6-40ba-8094-48c998edb994",
   "metadata": {},
   "source": [
    "### 6.0 Expand to get all surface points"
   ]
  },
  {
   "cell_type": "code",
   "execution_count": null,
   "id": "bb98de77-ff2b-467c-b8d7-59f0723b86ef",
   "metadata": {
    "scrolled": true,
    "tags": []
   },
   "outputs": [],
   "source": [
    "# Expand on the isolated surf mapped coords\n",
    "df_full_pocket = the_groove_expander(\n",
    "    df_pocket_surf=df_pocket_surf,\n",
    "    df_atom_sasa=df_atom_sasa,\n",
    "    df_side_surf=df_side_surf,\n",
    "    pdb_file=pdb_file,\n",
    "    out_path=output,\n",
    "    pocket_name=pocket_id,\n",
    "    threshold=3.0,\n",
    ")\n",
    "df_full_pocket.head()"
   ]
  },
  {
   "cell_type": "code",
   "execution_count": null,
   "id": "3e680c48-bfc2-48f8-999f-ee2d0355fb03",
   "metadata": {},
   "outputs": [],
   "source": [
    "# visualise the expanded pocket\n",
    "pymol_xyz_writer(\n",
    "    out_path=output,\n",
    "    file_name=\"extended_pocket_surf\",\n",
    "    df=df_full_pocket,\n",
    "    coords_column=\"surf_coords\",\n",
    "    element=\"C\",\n",
    ")"
   ]
  },
  {
   "cell_type": "markdown",
   "id": "c7b6d76c-c2f5-4fd5-9a4d-377188406b1b",
   "metadata": {},
   "source": [
    "### 7.0 Clean up the rim"
   ]
  },
  {
   "cell_type": "code",
   "execution_count": null,
   "id": "fac2f46d-c8b5-4a90-a3c6-2d6e7838f46b",
   "metadata": {},
   "outputs": [],
   "source": [
    "# get the surf points to remove from the starting end\n",
    "df_start_rim = pocket_rim_cleaner(df_atom_sasa=df_atom_sasa, df_full_pocket=df_full_pocket, \n",
    "                                        pocket_chains=start_groove_chains, res_resid=start_resid, res_atom=start_atom,\n",
    "                                        guard_resid=guard_start_resid, guard_atom=guard_start_atom, \n",
    "                                        threshold=5.0, pdb_file=pdb_file, outpath=output)\n",
    "df_start_rim.head()"
   ]
  },
  {
   "cell_type": "code",
   "execution_count": null,
   "id": "ad93903c-ea10-44bd-a116-3953df2a3650",
   "metadata": {},
   "outputs": [],
   "source": [
    "# get the surf points to remove from the ending end\n",
    "df_end_rim = pocket_rim_cleaner(df_atom_sasa=df_atom_sasa, df_full_pocket=df_full_pocket, \n",
    "                                        pocket_chains=end_groove_chains, res_resid=end_resid, res_atom=end_atom,\n",
    "                                        guard_resid=guard_end_resid, guard_atom=guard_end_atom, \n",
    "                                        threshold=6.0, pdb_file=pdb_file, outpath=output)\n",
    "df_end_rim.head()"
   ]
  },
  {
   "cell_type": "code",
   "execution_count": null,
   "id": "72fde68b-b8c9-46f1-bf9d-adeed1991a7e",
   "metadata": {},
   "outputs": [],
   "source": [
    "# Isolate the pocket from the rim points\n",
    "idx_to_drop = set(df_start_rim.index.tolist() + df_end_rim.index.to_list())\n",
    "\n",
    "df_pocket_isolate = df_full_pocket.copy()\n",
    "df_pocket_isolate = df_pocket_isolate[~df_pocket_isolate.index.isin(idx_to_drop)]\n",
    "df_pocket_isolate.drop_duplicates(subset='MaSIF_index', inplace=True) # remove duplicated points based on MaSIF idx\n",
    "df_pocket_isolate.reset_index(drop=True, inplace=True)\n",
    "\n",
    "# Export\n",
    "df_pocket_isolate.to_csv(f'{output}/{datetime.date.today()}_{os.path.basename(pdb_file).split(\"_\")[0]}_{pocket_id}_isolate.csv')\n",
    "\n",
    "print(df_pocket_isolate.shape)\n",
    "df_pocket_isolate.head()"
   ]
  },
  {
   "cell_type": "code",
   "execution_count": null,
   "id": "ab01cf2f-af73-453d-820b-4e8fe549b3aa",
   "metadata": {},
   "outputs": [],
   "source": [
    "# visualise the isolated pocket\n",
    "pymol_xyz_writer(\n",
    "    out_path=output,\n",
    "    file_name=\"isolated_pocket\",\n",
    "    df=df_pocket_isolate,\n",
    "    coords_column=\"surf_coords\",\n",
    "    element=\"C\",\n",
    ")"
   ]
  },
  {
   "cell_type": "markdown",
   "id": "0e7d35be-2324-4ab1-a4b2-4fe185ac0ead",
   "metadata": {},
   "source": [
    "### 8.0 Manual filtering"
   ]
  },
  {
   "cell_type": "code",
   "execution_count": null,
   "id": "5e698162-52e2-4e00-b540-a3f9a0406d1c",
   "metadata": {},
   "outputs": [],
   "source": [
    "df_pocket_refined = filter_by_range(\n",
    "    df_atom_sasa=df_atom_sasa,\n",
    "    df_pocket_isolate=df_pocket_isolate,\n",
    "    resid=91,\n",
    "    chain=\"I\",\n",
    "    atom=\"CB\",\n",
    "    output=output,\n",
    "    pocket_id=pocket_id,\n",
    "    pdb_file=pdb_file,\n",
    "    dist_thresh=5.0,\n",
    ")\n",
    "df_pocket_refined.head()"
   ]
  },
  {
   "cell_type": "code",
   "execution_count": null,
   "id": "18e582d3-a27c-474a-b042-2e86af32e913",
   "metadata": {},
   "outputs": [],
   "source": [
    "df_pocket_refined = filter_by_range(\n",
    "    df_atom_sasa=df_atom_sasa,\n",
    "    df_pocket_isolate=df_pocket_refined,\n",
    "    resid=89,\n",
    "    chain=\"I\",\n",
    "    atom=\"O\",\n",
    "    output=output,\n",
    "    pocket_id=pocket_id,\n",
    "    pdb_file=pdb_file,\n",
    "    dist_thresh=5.0,\n",
    ")\n",
    "df_pocket_refined.head()"
   ]
  },
  {
   "cell_type": "code",
   "execution_count": null,
   "id": "d06326dc-11c8-4efc-b628-cc3f489420ce",
   "metadata": {},
   "outputs": [],
   "source": [
    "pymol_xyz_writer(\n",
    "    out_path=output,\n",
    "    file_name=\"refined_pocket\",\n",
    "    df=df_pocket_refined,\n",
    "    coords_column=\"surf_coords\",\n",
    "    element=\"C\",\n",
    ")"
   ]
  },
  {
   "cell_type": "markdown",
   "id": "9ef705a2-5b47-45ae-850b-78f2b854dc47",
   "metadata": {},
   "source": [
    "### 9.0 Calculate the area and volume"
   ]
  },
  {
   "cell_type": "code",
   "execution_count": null,
   "id": "214fac22-aa15-4cbe-9efc-88362b0ed4d7",
   "metadata": {},
   "outputs": [],
   "source": [
    "# Calculate area from calculated SASA\n",
    "total_sasa, pocket_hphob_sasa, percent_hphob = get_areas(df=df_pocket_coords)"
   ]
  },
  {
   "cell_type": "code",
   "execution_count": null,
   "id": "ff3f0a48-0dfc-478d-b887-2a426bc4ae9b",
   "metadata": {},
   "outputs": [],
   "source": [
    "# get the surf x,y,z\n",
    "\n",
    "# map df to the latest stage of pocket form\n",
    "try:\n",
    "    df_pocket_refined\n",
    "except NameError:\n",
    "    df = df_pocket_isolate.copy()\n",
    "else:\n",
    "    df = df_pocket_refined.copy()\n",
    "\n",
    "\n",
    "df['vertex_x'] = df['surf_coords'].apply(lambda x: float(x[0]))\n",
    "df['vertex_y'] = df['surf_coords'].apply(lambda x: float(x[1]))\n",
    "df['vertex_z'] = df['surf_coords'].apply(lambda x: float(x[2]))\n",
    "\n",
    "# get the coords\n",
    "mesh_verts = np.stack((df.vertex_x.to_numpy(),\n",
    "                      df.vertex_y.to_numpy(),\n",
    "                       df.vertex_z.to_numpy()), axis=1)\n",
    "mesh_verts.shape"
   ]
  },
  {
   "cell_type": "markdown",
   "id": "7e8eef9b-150b-4608-af44-2aafa23065ed",
   "metadata": {},
   "source": [
    "#### 9.1 Create convex hull"
   ]
  },
  {
   "cell_type": "code",
   "execution_count": null,
   "id": "9236712f-fef0-4c16-b8f0-3ba742311ea1",
   "metadata": {},
   "outputs": [],
   "source": [
    "# Create the convexhull\n",
    "pocket_hull = ConvexHull(points=mesh_verts,)\n",
    "\n",
    "print(f'pocket area: {pocket_hull.area}')\n",
    "print(f'pocket volume: {pocket_hull.volume}')"
   ]
  },
  {
   "cell_type": "code",
   "execution_count": null,
   "id": "dedc9f64-dc2b-41e7-9032-bb505645579b",
   "metadata": {
    "tags": []
   },
   "outputs": [],
   "source": [
    "# visualise\n",
    "fig = plt.figure(figsize=(10,15), clear=True)\n",
    "ax = plt.axes(projection='3d')\n",
    "\n",
    "ax.view_init(-140, 60)\n",
    "ax.plot3D(mesh_verts[:,0], mesh_verts[:,1],mesh_verts[:,2], '.')\n",
    "\n",
    "for simplex in pocket_hull.simplices:\n",
    "    ax.plot3D(mesh_verts[simplex, 0], mesh_verts[simplex, 1], mesh_verts[simplex,2], 'k-')\n",
    "\n",
    "plt.savefig(f\"{output}/{datetime.date.today()}_{pocket_id}_pocket_and_hull.png\", format=\"png\" ,dpi=300, transparent=True)"
   ]
  },
  {
   "cell_type": "markdown",
   "id": "95847338-5457-49fd-8731-4f22faedc3dd",
   "metadata": {},
   "source": [
    "#### 9.2 Export hull with PyMesh"
   ]
  },
  {
   "cell_type": "code",
   "execution_count": null,
   "id": "c499a8b6-db9d-4953-bb9f-52bf8026deb8",
   "metadata": {},
   "outputs": [],
   "source": [
    "# create mesh\n",
    "mesh = pymesh.form_mesh(pocket_hull.points, pocket_hull.simplices) "
   ]
  },
  {
   "cell_type": "code",
   "execution_count": null,
   "id": "6822e1cf-c7cb-4ed1-aedf-6eea2d5b6a87",
   "metadata": {},
   "outputs": [],
   "source": [
    "# get the surf nx, ny, nz\n",
    "df['vertex_nx'] = df['surf_normals'].apply(lambda x: float(x[0]))\n",
    "df['vertex_ny'] = df['surf_normals'].apply(lambda x: float(x[1]))\n",
    "df['vertex_nz'] = df['surf_normals'].apply(lambda x: float(x[2]))\n",
    "\n",
    "# format the other parameters\n",
    "df['vertex_charge'] = df['surf_charge'].apply(lambda x: float(x))\n",
    "df['vertex_hbond']  = df['surf_hbond'].apply(lambda x: float(x))\n",
    "df['vertex_hphob']  = df['surf_hphob'].apply(lambda x: float(x))\n",
    "\n",
    "# export\n",
    "df.to_csv(f'{output}/{datetime.date.today()}_pocket_expanded_for_mesh.csv')\n",
    "\n",
    "print(df.shape)\n",
    "df.head()"
   ]
  },
  {
   "cell_type": "code",
   "execution_count": null,
   "id": "af116aad-8d5e-4210-911f-1c86b912c51e",
   "metadata": {},
   "outputs": [],
   "source": [
    "# get the mesh attr as np arrays\n",
    "vertex_nx       = df.vertex_nx.to_numpy()\n",
    "vertex_ny       = df.vertex_ny.to_numpy()\n",
    "vertex_nz       = df.vertex_nz.to_numpy()\n",
    "vertex_charge   = df.vertex_charge.to_numpy()\n",
    "vertex_hbond    = df.vertex_hbond.to_numpy()\n",
    "vertex_hphob    = df.vertex_hphob.to_numpy()\n",
    "\n",
    "# add stuff to the mesh\n",
    "mesh.add_attribute('vertex_nx')\n",
    "mesh.set_attribute('vertex_nx' , vertex_nx)\n",
    "\n",
    "mesh.add_attribute('vertex_ny')\n",
    "mesh.set_attribute('vertex_ny' , vertex_ny)\n",
    "\n",
    "mesh.add_attribute('vertex_nz')\n",
    "mesh.set_attribute('vertex_nz' , vertex_nz)\n",
    "\n",
    "mesh.add_attribute('vertex_charge')\n",
    "mesh.set_attribute('vertex_charge', vertex_charge)\n",
    "\n",
    "mesh.add_attribute('vertex_hbond')\n",
    "mesh.set_attribute('vertex_hbond', vertex_hbond)\n",
    "\n",
    "mesh.add_attribute('vertex_hphob')\n",
    "mesh.set_attribute('vertex_hphob', vertex_hphob)\n",
    "\n",
    "# save mesh with attributes\n",
    "pymesh.save_mesh(f'{output}/{pocket_id}_convex_hull.ply', mesh, *mesh.get_attribute_names() ,use_float=True, ascii=True)"
   ]
  },
  {
   "cell_type": "markdown",
   "id": "ff10d1d7-c36a-4313-b05c-79da1d707b7f",
   "metadata": {},
   "source": [
    "### 10.0 Write out the pocket properties"
   ]
  },
  {
   "cell_type": "code",
   "execution_count": null,
   "id": "03c6feec-e7c8-49e2-9c6d-132a80502df4",
   "metadata": {},
   "outputs": [],
   "source": [
    "# get the res and id pairs\n",
    "pocket_resids = sorted(list(set(start_groove_resids+end_groove_resids)))\n",
    "pocket_resnames  = list(df_atom_sasa[(df_atom_sasa.resid.isin(pocket_resids)) & (df_atom_sasa.atom_type == 'CA') & (df_atom_sasa.chain == start_groove_chains[0])]['resname'])\n",
    "pocket_res_id_paired = ', '.join([f'{i} {r}' for i,r in zip(pocket_resids, pocket_resnames)])\n",
    "pocket_res_id_paired"
   ]
  },
  {
   "cell_type": "code",
   "execution_count": null,
   "id": "1890a9d2-d0eb-455b-8e0b-2069b7c59b68",
   "metadata": {
    "tags": []
   },
   "outputs": [],
   "source": [
    "# content container\n",
    "prop_dic = {} \n",
    "\n",
    "prop_dic['fibril']                  = os.path.basename(pdb_file).split('_')[0]\n",
    "prop_dic['pocket_id']               = pocket_id \n",
    "prop_dic['start_resid']             = start_resid\n",
    "prop_dic['start_atom']              = start_atom\n",
    "prop_dic['end_resid']               = end_resid\n",
    "prop_dic['end_atom']                = end_atom\n",
    "prop_dic['guard_start_resid']       = guard_start_resid\n",
    "prop_dic['guard_start_atom']        = guard_start_atom\n",
    "prop_dic['guard_end_resid']         = guard_end_resid\n",
    "prop_dic['guard_end_atom']          = guard_end_atom\n",
    "prop_dic['pocket_chains']           = [list(set(start_groove_chains+end_groove_chains))]\n",
    "prop_dic['start_groove_chains']     = [start_groove_chains]\n",
    "prop_dic['end_groove_chains']       = [end_groove_chains]\n",
    "prop_dic['pocket_seq']              = pocket_res_id_paired\n",
    "prop_dic['pocket_resids']           = [sorted(list(set(start_groove_resids+end_groove_resids)))]\n",
    "prop_dic['start_groove_resids']     = [start_groove_resids]\n",
    "prop_dic['end_groove_resids']       = [end_groove_resids]\n",
    "prop_dic['pocket_res_num']          = len(set(start_groove_resids + end_groove_resids))\n",
    "prop_dic['pocket_chain_num']        = len(set(start_groove_chains + end_groove_chains))\n",
    "prop_dic['pocket_volume(A3)']       = round(pocket_hull.volume, 2)\n",
    "prop_dic['pocket_area(A2)']         = total_sasa\n",
    "prop_dic['pocket_hphob_area(A2)']   = pocket_hphob_sasa\n",
    "prop_dic['pocket_hphob_area_%']     = percent_hphob\n",
    "\n",
    "prop_dic\n",
    "\n",
    "#get all into a df\n",
    "prop_df = pd.DataFrame(prop_dic, index=[0])\n",
    "\n",
    "# export\n",
    "prop_df.to_csv(f'{output}/{datetime.date.today()}_{pocket_id}_params.csv')\n",
    "prop_df"
   ]
  }
 ],
 "metadata": {
  "kernelspec": {
   "display_name": "Python 3 (ipykernel)",
   "language": "python",
   "name": "python3"
  },
  "language_info": {
   "codemirror_mode": {
    "name": "ipython",
    "version": 3
   },
   "file_extension": ".py",
   "mimetype": "text/x-python",
   "name": "python",
   "nbconvert_exporter": "python",
   "pygments_lexer": "ipython3",
   "version": "3.9.7"
  }
 },
 "nbformat": 4,
 "nbformat_minor": 5
}
