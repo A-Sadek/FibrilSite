{
 "cells": [
  {
   "cell_type": "markdown",
   "id": "3e38fee6-35d3-459a-baad-343b2079a071",
   "metadata": {},
   "source": [
    "# This notebook is to analyse the fibril site alignments with focus on ex vivo aSyn fibrils\n",
    "- Find share features among ex vivo aSyn fibrils\n",
    "- Find share features between ex vivo fibrils of aSyn and other amyloid proteins\n",
    "- Find share features between ex vivo and in vitro aSyn fibrils"
   ]
  },
  {
   "cell_type": "markdown",
   "id": "c4a42abf-3840-483d-9935-0d150c158726",
   "metadata": {},
   "source": [
    "**Open3d output explained**\n",
    "\n",
    "- *icp_fitness*, which measures the overlapping area (# of correspondences / # of points in source pocket). The higher the better.\n",
    "        \"how much of the source pocket is matched to the target\" --> Fitness(source)\n",
    "        \n",
    "- *inlier_rmse*, which measures the RMSE of all inlier correspondences. The lower the better.\n",
    "\n",
    "**target_matched_percent explained**\n",
    "- *Fitness(Target)* =  # of correspondences / # of points in target pocket\n",
    "\n",
    "**combined_fitness_score (SSmax) explained**\n",
    "- since there is a size difference between the matched pockets, a fitness score, aka query coverage, calculated based on the source and target pockets' sizes. the Max of both is used as the most coverage obtained between 2 pockets and will be used for further downstream analysis"
   ]
  },
  {
   "cell_type": "markdown",
   "id": "f0e6a0e5-22d3-496b-bce4-b9f37b791aeb",
   "metadata": {
    "tags": []
   },
   "source": [
    "## 1.0 Libraries"
   ]
  },
  {
   "cell_type": "code",
   "execution_count": null,
   "id": "ee6446f7-4d73-4683-b58b-424f12c3deea",
   "metadata": {},
   "outputs": [],
   "source": [
    "import os, glob, shutil, datetime, open3d, copy\n",
    "\n",
    "import numpy as np\n",
    "import pandas as pd\n",
    "import seaborn as sns\n",
    "\n",
    "import matplotlib.pyplot as plt\n",
    "import matplotlib.ticker as mticker\n",
    "\n",
    "from tqdm import tqdm\n",
    "\n",
    "from fibrilsite import get_input_desc_diff, calc_input_feat_diff"
   ]
  },
  {
   "cell_type": "markdown",
   "id": "17aff24d-44a4-4d43-92ab-b7d1c0c5e2b5",
   "metadata": {
    "tags": []
   },
   "source": [
    "## 2.0 Functions"
   ]
  },
  {
   "cell_type": "code",
   "execution_count": null,
   "id": "94f5c1cb-1402-4768-814f-6f33807fe276",
   "metadata": {},
   "outputs": [],
   "source": [
    "def fibril_name_str(x):\n",
    "    \"\"\"  \"\"\"\n",
    "    if x.split('_')[0] in ['PHF','CTEII']:\n",
    "        return 'Tau'\n",
    "    elif x.split('_')[0] in ['A53T', 'Pol', 'LF', 'G51D', 'MSA', 'E46K', 'H50Q', 'pY39']:\n",
    "        return 'aSyn'\n",
    "    else:\n",
    "        return x.split('_')[0]"
   ]
  },
  {
   "cell_type": "code",
   "execution_count": null,
   "id": "10f28837",
   "metadata": {},
   "outputs": [],
   "source": [
    "def add_size_metrics(df:pd.DataFrame):\n",
    "    \"\"\"  \"\"\"\n",
    "    df['src2target_size_ratio'] = round(df['size_source'] / df['size_target'],2)\n",
    "    df['target_matched_percent_icp']    = round(df['icp_nb_corres']/df['size_target'],2)\n",
    "    return df"
   ]
  },
  {
   "cell_type": "code",
   "execution_count": null,
   "id": "1f7430d0",
   "metadata": {},
   "outputs": [],
   "source": [
    "def add_pocket_matches(df:pd.DataFrame) -> pd.DataFrame:\n",
    "    \"\"\"  \"\"\"\n",
    "    vessel = []\n",
    "    for item00 in df.pocket_pairs:\n",
    "        sorted_items = sorted([item00[0],item00[2]])\n",
    "        vessel.append((sorted_items[0], sorted_items[1]))\n",
    "    \n",
    "    # add to Dataframe\n",
    "    df.insert(0, 'pocket_matches', vessel)\n",
    "\n",
    "    # check if there are duplicated matches\n",
    "    assert len(df.pocket_matches.to_list()) == len(list(set(df.pocket_matches.to_list()))), \"Duplicated Matches Found\"\n",
    "    print(\"Unique Matches\")\n",
    "\n",
    "    return df"
   ]
  },
  {
   "cell_type": "markdown",
   "id": "05687aad-a9d4-4baa-a0c4-0e44de6d6092",
   "metadata": {
    "tags": []
   },
   "source": [
    "## 3.0 I/O"
   ]
  },
  {
   "cell_type": "markdown",
   "id": "9052c3e9-5502-4c94-aea2-ff0000acd90e",
   "metadata": {
    "tags": []
   },
   "source": [
    "### 3.1 Output dirs"
   ]
  },
  {
   "cell_type": "code",
   "execution_count": null,
   "id": "fde8c81f-a568-4c55-9413-0fb4a7298090",
   "metadata": {},
   "outputs": [],
   "source": [
    "# make main output folder\n",
    "main_output = os.path.join(os.path.abspath('.'), str(datetime.date.today()) + \"_input_feats_pockets_analysis_publish\")\n",
    "os.makedirs(main_output, exist_ok=False)\n",
    "\n",
    "## ------------------------------------------------------- ##\n",
    "\n",
    "# make output for all vs all comparison\n",
    "allvsall_out = os.path.join(main_output, \"all_vs_all\")\n",
    "os.makedirs(allvsall_out, exist_ok=False)\n",
    "\n",
    "## ------------------------------------------------------- ##\n",
    "\n",
    "# make output for ex vivo aSyn to aSyn fibril sites comparison\n",
    "asyn2asyn_out = os.path.join(main_output, \"aSyn_to_aSyn\")\n",
    "os.makedirs(asyn2asyn_out, exist_ok=False)\n",
    "\n",
    "## ------------------------------------------------------- ##\n",
    "\n",
    "# make output for ex vivo aSyn to other amyloid fibrils sites comparison\n",
    "asyn2others_out = os.path.join(main_output, \"aSyn_to_other_amyloids\")\n",
    "os.makedirs(asyn2others_out, exist_ok=False)\n",
    "\n",
    "## ------------------------------------------------------- ##\n",
    "\n",
    "# make output for ex vivo to in vitro aSyn fibril sites comparison\n",
    "asyn2invitro_out = os.path.join(main_output, \"aSyn_to_invitro_aSyn\")\n",
    "os.makedirs(asyn2invitro_out, exist_ok=False)\n",
    "\n",
    "## ------------------------------------------------------- ##\n",
    "\n",
    "# make output for in vitro aSyn to other amyloid fibrils sites comparison\n",
    "asyninvitro2others_out = os.path.join(main_output, \"invitro_aSyn_to_other_amyloids\")\n",
    "os.makedirs(asyninvitro2others_out, exist_ok=False)\n",
    "\n",
    "## ------------------------------------------------------- ##"
   ]
  },
  {
   "cell_type": "markdown",
   "id": "bc99886d-3930-47e2-ab31-30175ac55b63",
   "metadata": {},
   "source": [
    "### 3.2 Folders paths"
   ]
  },
  {
   "cell_type": "code",
   "execution_count": null,
   "id": "ca8c0d8e-a308-452a-9765-c4d94d282cd0",
   "metadata": {},
   "outputs": [],
   "source": [
    "# path to registration output results\n",
    "reg_out_dir = os.path.abspath('./2023-11-20_registration_output_no_hphob_frac_analysis_updated/')\n",
    "assert os.path.exists(reg_out_dir), \"Folder not found\"\n",
    "print(\"All Good !\")"
   ]
  },
  {
   "cell_type": "code",
   "execution_count": null,
   "id": "fed08609-a2ce-4bf2-b62e-3f5df729de16",
   "metadata": {},
   "outputs": [],
   "source": [
    "#paths to npy files for input feats registration\n",
    "input_feats_npy = [l.strip() for l in glob.iglob(os.path.join(\n",
    "    os.path.abspath(\"../230914_run/2023-09-14_registration_outputs/o3d_objects_npy/input_feats_reg\"), \"*.npy\"))]\n",
    "\n",
    "print(len(input_feats_npy))\n",
    "print(input_feats_npy[0])"
   ]
  },
  {
   "cell_type": "code",
   "execution_count": null,
   "id": "3bb4c5bc-248b-4ff1-ae93-e62c43fee5ff",
   "metadata": {},
   "outputs": [],
   "source": [
    "# defined pockets in this study\n",
    "pockets = [\n",
    "    'Pol_1a_P1', 'Pol_1a_P2', 'Pol_1a_P3', 'Pol_1a_P4',\n",
    "    'Pol_1b_P19', 'Pol_1b_P20',\n",
    "    'Pol_2a_P21', 'Pol_2a_P22', 'Pol_2a_P23', 'Pol_2a_P24', 'Pol_2a_P25', 'Pol_2a_P26',\n",
    "    'Pol_2b_P32', 'Pol_2b_P33', 'Pol_2b_P34', 'Pol_2b_P35', 'Pol_2b_P36',\n",
    "    'pY39_P40', 'pY39_P41', 'pY39_P42', 'pY39_P43',\n",
    "    'G51D_P44', 'G51D_P45', 'G51D_P46',\n",
    "    'A53T_P47', 'A53T_P48', 'A53T_P49',\n",
    "    'H50Q_P50', 'H50Q_P51', 'H50Q_P83',\n",
    "    'E46K_P52', 'E46K_P53', 'E46K_P54', 'E46K_P55',\n",
    "    'MSA_I_P56', 'MSA_I_P57', 'MSA_I_P58',\n",
    "    'MSA_IIa_P59', 'MSA_IIa_P60', 'MSA_IIa_P61', 'MSA_IIa_P62','MSA_IIa_P69',\n",
    "    'MSA_IIb_P63', 'MSA_IIb_P64', 'MSA_IIb_P65', 'MSA_IIb_P66','MSA_IIb_P70',\n",
    "    'LF_P67', 'LF_P68',\n",
    "    'TMEM106B_P71', 'TMEM106B_P72',\n",
    "    'CTEII_P73', 'CTEII_P74',\n",
    "    'AB42_P75', 'AB42_P76',\n",
    "    'PHF_P77', 'PHF_P78',\n",
    "    'Prp_P79', 'Prp_P80', 'Prp_P81', 'Prp_P82']"
   ]
  },
  {
   "cell_type": "markdown",
   "id": "9e4b98f2-1eb5-42d5-b6cf-02b9af67d092",
   "metadata": {},
   "source": [
    "## 4.0 Execution"
   ]
  },
  {
   "cell_type": "markdown",
   "id": "2208edc2-3425-4431-acd6-963027c787f4",
   "metadata": {
    "tags": []
   },
   "source": [
    "### 4.1 Load all the information"
   ]
  },
  {
   "cell_type": "code",
   "execution_count": null,
   "id": "c9c83b2e-b1f5-4262-bcfd-4057f6a8d541",
   "metadata": {},
   "outputs": [],
   "source": [
    "# load points with their features\n",
    "df_all_info = pd.read_csv(os.path.abspath('../2023-09-06_parsed_info/2023-09-06_all_pockets_feats.csv'), index_col=0)\n",
    "\n",
    "print(df_all_info.shape)\n",
    "df_all_info.head(2)"
   ]
  },
  {
   "cell_type": "code",
   "execution_count": null,
   "id": "d80c6e00-3c93-47ae-8a63-afaa811b2e6f",
   "metadata": {
    "tags": []
   },
   "outputs": [],
   "source": [
    "# work on the input feats reg\n",
    "df_input_all = pd.read_csv(os.path.abspath('../230914_run/2023-09-14_registration_outputs/2023-09-14_all_pockets_input_features_registered.csv'), index_col=0).rename(columns={'runsac_rmse':'ransac_rmse', 'runsac_fitness':'ransac_fitness'}).reset_index(drop=True)\n",
    "\n",
    "# add fibril source for source and target pockets\n",
    "df_input_all['source_pocket_fibril'] = df_input_all['source_pocket'].apply(lambda x: fibril_name_str(x))\n",
    "df_input_all['target_pocket_fibril'] = df_input_all['target_pocket'].apply(lambda x: fibril_name_str(x))\n",
    "\n",
    "# add the alternate metrics from the target pocket side\n",
    "df_input_all = add_size_metrics(df=df_input_all)\n",
    "\n",
    "# rename the fitness score columns\n",
    "df_input_all.rename(columns={\"icp_fitness\":\"icp_fitness_source\", \"target_matched_percent_icp\":\"icp_fitness_target\"}, inplace=True)\n",
    "\n",
    "# add the combined fitness score\n",
    "comb_fit_sc_vessel = []\n",
    "for idx00 in df_input_all.index:\n",
    "    comb_fit_sc_vessel.append(round(max(df_input_all.at[idx00, \"icp_fitness_source\"], df_input_all.at[idx00, \"icp_fitness_target\"]),2))\n",
    "\n",
    "df_input_all.insert(df_input_all.shape[1], \"combined_fitness_score\", comb_fit_sc_vessel)\n",
    "\n",
    "\n",
    "# get rid of the ransac columns\n",
    "df_input_all = df_input_all[[\n",
    "    'source_pocket', 'target_pocket',\n",
    "    'icp_rmse', 'icp_fitness_source', 'icp_fitness_target', 'combined_fitness_score',\n",
    "    'icp_nb_corres', 'size_source', 'size_target', 'src2target_size_ratio',\n",
    "    'source_pocket_fibril', 'target_pocket_fibril']]\n",
    "\n",
    "# get the pocket pairs\n",
    "df_input_all.insert(0, 'pocket_pairs', [[s,sf,t,tf] for s,sf,t,tf in zip(df_input_all.source_pocket, df_input_all.source_pocket_fibril, df_input_all.target_pocket, df_input_all.target_pocket_fibril)])\n",
    "df_input_all.sort_values(by='pocket_pairs', inplace=True)\n",
    "df_input_all.reset_index(drop=True, inplace=True)\n",
    "\n",
    "# calculate the input feat diff\n",
    "df_input_all = calc_input_feat_diff(df=df_input_all, df_all_info=df_all_info, input_feats_npy=input_feats_npy, output=main_output, export=False)\n",
    "\n",
    "# add the pocket matches\n",
    "df_input_all = add_pocket_matches(df=df_input_all)\n",
    "\n",
    "# export \n",
    "df_input_all.to_csv(os.path.join(main_output, str(datetime.date.today())+'_all_input_reg_pockets.csv'))\n",
    "\n",
    "print(df_input_all.shape)\n",
    "df_input_all.head(2)"
   ]
  },
  {
   "cell_type": "code",
   "execution_count": null,
   "id": "f995eee8",
   "metadata": {
    "tags": []
   },
   "outputs": [],
   "source": [
    "# Find the all vs all matches\n",
    "# base the selections on the ICP mean input feats (Fdiff)\n",
    "\n",
    "# container\n",
    "allvsall_vessel = []\n",
    "\n",
    "for poc in tqdm(pockets):\n",
    "    df_temp = df_input_all.copy()[(df_input_all.source_pocket == poc) | (df_input_all.target_pocket == poc)].sort_values(by=\"icp_mean_input_diff\", ascending=True).reset_index(drop=True).head(5)\n",
    "    allvsall_vessel.append(df_temp)\n",
    "    df_temp.to_csv(os.path.join(allvsall_out, poc + \"_top5_nghs.csv\"))\n",
    "\n",
    "# put the selected nghs into a df\n",
    "df_allvsall_sel_ngh = pd.concat(allvsall_vessel).reset_index(drop=True)\n",
    "df_allvsall_sel_ngh.to_csv(os.path.join(allvsall_out, \"allvsall_top5_nghs.csv\"))"
   ]
  },
  {
   "cell_type": "markdown",
   "id": "1b2e2e1b",
   "metadata": {},
   "source": [
    "### 4.2 Compare sites among ex vivo aSyn fibrils"
   ]
  },
  {
   "cell_type": "code",
   "execution_count": null,
   "id": "53b98c46-78d9-4668-ac15-c28dad82f512",
   "metadata": {},
   "outputs": [],
   "source": [
    "# get the pocket names in the brain derived structures\n",
    "asyn_brain_pockets = [p for p in pockets if p.split(\"_\")[0] in [\"MSA\", \"LF\"]]\n",
    "\n",
    "\n",
    "# get the information for the brain derived pockets\n",
    "df_input_b2b = df_input_all.copy()[(df_input_all.source_pocket.isin(asyn_brain_pockets)) & (df_input_all.target_pocket.isin(asyn_brain_pockets))].sort_values(by='combined_fitness_score', ascending=False).reset_index(drop=1)\n",
    "\n",
    "# export all aSyn brain pockets matches\n",
    "df_input_b2b.to_csv(os.path.join(asyn2asyn_out, 'all_asyn_brain_to_asyn_brain_matches.csv'))\n",
    "\n",
    "print(df_input_all.shape)\n",
    "print(df_input_b2b.shape)\n",
    "\n",
    "df_input_b2b.head(2)"
   ]
  },
  {
   "cell_type": "code",
   "execution_count": null,
   "id": "444ceef4-4b38-4b8b-812e-801444ea5354",
   "metadata": {},
   "outputs": [],
   "source": [
    "# get the matches that pass the simirity threshold\n",
    "# SSmax : combined_fitness_score >= 0.5\n",
    "# Fdiff : icp_mean_input_diff <= 0.6\n",
    "# with exception of MSA–I P56\n",
    "\n",
    "df_b2b_sel = df_input_b2b.copy()[(df_input_b2b.combined_fitness_score >= 0.4) & (df_input_b2b.icp_mean_input_diff <= 0.6)].sort_values(by=\"combined_fitness_score\", ascending=False).reset_index(drop=True)\n",
    "\n",
    "# export\n",
    "df_b2b_sel.to_csv(os.path.join(asyn2asyn_out, \"sel_asyn_brain_to_asyn_brain_matches.csv\"))\n",
    "\n",
    "print(df_b2b_sel.shape)\n",
    "df_b2b_sel"
   ]
  },
  {
   "cell_type": "markdown",
   "id": "5d9588a5",
   "metadata": {},
   "source": [
    "### 4.3 Compare sites between ex vivo fibrils of aSyn and other amyloid proteins"
   ]
  },
  {
   "cell_type": "code",
   "execution_count": null,
   "id": "3384c38c",
   "metadata": {},
   "outputs": [],
   "source": [
    "# get the pocket names in the brain derived structures\n",
    "asyn_brain_and_other_amyloids_pockets = [p for p in pockets if p.split(\"_\")[0] not in ['A53T', 'Pol', 'G51D', 'E46K', 'H50Q', 'pY39']]\n",
    "\n",
    "# get the information for the desired pockets\n",
    "df_input_b2others = df_input_all.copy()[\n",
    "    (df_input_all.source_pocket.isin(asyn_brain_and_other_amyloids_pockets)) & \n",
    "    (df_input_all.target_pocket.isin(asyn_brain_and_other_amyloids_pockets))\n",
    "    ].sort_values(by='combined_fitness_score', ascending=False).reset_index(drop=1)\n",
    "\n",
    "# export all aSyn brain pockets matches\n",
    "df_input_b2others.to_csv(os.path.join(asyn2others_out, 'all_asyn_brain_to_other_amyloids_matches.csv'))\n",
    "\n",
    "print(df_input_all.shape)\n",
    "print(df_input_b2others.shape)\n",
    "\n",
    "df_input_b2others.head(2)"
   ]
  },
  {
   "cell_type": "code",
   "execution_count": null,
   "id": "4deede4e-732f-4d5d-9191-507231d30b7c",
   "metadata": {},
   "outputs": [],
   "source": [
    "# get the matches that pass the simirity threshold\n",
    "# SSmax : combined_fitness_score >= 0.5\n",
    "# Fdiff : icp_mean_input_diff <= 0.6\n",
    "\n",
    "df_b2o_sel = df_input_b2others.copy()[(df_input_b2others.combined_fitness_score >= 0.5) & (df_input_b2others.icp_mean_input_diff <= 0.6)].sort_values(by=\"combined_fitness_score\", ascending=False).reset_index(drop=True)\n",
    "\n",
    "# make sure that the matches are not among ex vivo aSyn fibrils \n",
    "df_b2o_sel[\"fibril_src_target_match\"] = df_b2o_sel[\"source_pocket_fibril\"] == df_b2o_sel[\"target_pocket_fibril\"]\n",
    "df_b2o_sel = df_b2o_sel[df_b2o_sel.fibril_src_target_match == False]\n",
    "\n",
    "# export\n",
    "df_b2o_sel.to_csv(os.path.join(asyn2others_out, 'sel_asyn_brain_to_other_amyloids_matches.csv'))\n",
    "\n",
    "df_b2o_sel"
   ]
  },
  {
   "cell_type": "markdown",
   "id": "a674febe",
   "metadata": {},
   "source": [
    "### 4.4 Compare sites between ex vivo and in vitro fibrils of aSyn"
   ]
  },
  {
   "cell_type": "code",
   "execution_count": null,
   "id": "903bd64b",
   "metadata": {},
   "outputs": [],
   "source": [
    "# get the pocket names\n",
    "asyn_brain_and_other_invitro_pockets = [p for p in pockets if p.split(\"_\")[0] in ['MSA', 'LF', 'A53T', 'Pol', 'G51D', 'E46K', 'H50Q', 'pY39']]\n",
    "\n",
    "# get the information for the desired pockets\n",
    "df_input_b2invitro = df_input_all.copy()[\n",
    "    (df_input_all.source_pocket.isin(asyn_brain_and_other_invitro_pockets)) & \n",
    "    (df_input_all.target_pocket.isin(asyn_brain_and_other_invitro_pockets))\n",
    "    ].sort_values(by='combined_fitness_score', ascending=False).reset_index(drop=1)\n",
    "\n",
    "# export all aSyn brain pockets matches\n",
    "df_input_b2invitro.to_csv(os.path.join(asyn2invitro_out, 'all_asyn_brain_to_invitro_matches.csv'))\n",
    "\n",
    "print(df_input_all.shape)\n",
    "print(df_input_b2invitro.shape)\n",
    "\n",
    "df_input_b2invitro.head(2)"
   ]
  },
  {
   "cell_type": "code",
   "execution_count": null,
   "id": "d042308b-21b4-41f3-9839-db6dd98c19ad",
   "metadata": {},
   "outputs": [],
   "source": [
    "# get the matches that pass the simirity threshold\n",
    "# SSmax : combined_fitness_score >= 0.5\n",
    "# Fdiff : icp_mean_input_diff <= 0.6\n",
    "\n",
    "df_b2invitro_sel = df_input_b2invitro.copy()[(df_input_b2invitro.combined_fitness_score >= 0.5) & (df_input_b2invitro.icp_mean_input_diff <= 0.6)].sort_values(by=\"combined_fitness_score\", ascending=False).reset_index(drop=True)\n",
    "\n",
    "# ensure that the matches are with the ex vivo aSyn structures\n",
    "df_b2invitro_sel = df_b2invitro_sel[(df_b2invitro_sel.source_pocket.isin(asyn_brain_pockets)) | (df_b2invitro_sel.target_pocket.isin(asyn_brain_pockets))].reset_index(drop=True)\n",
    "\n",
    "# make sure that the matches are not among ex vivo aSyn fibrils \n",
    "df_b2invitro_sel_rej = df_b2invitro_sel[(df_b2invitro_sel.source_pocket.isin(asyn_brain_pockets)) & (df_b2invitro_sel.target_pocket.isin(asyn_brain_pockets))].reset_index(drop=True)\n",
    "df_b2invitro_sel = df_b2invitro_sel[~df_b2invitro_sel.pocket_matches.isin(df_b2invitro_sel_rej.pocket_matches.to_list())].reset_index(drop=True)\n",
    "\n",
    "# export\n",
    "df_b2invitro_sel.to_csv(os.path.join(asyn2invitro_out, 'sel_asyn_brain_to_invitro_matches.csv'))\n",
    "\n",
    "df_b2invitro_sel"
   ]
  },
  {
   "cell_type": "markdown",
   "id": "b9db0f17-d2f5-44cc-97c7-d31ba01e62a4",
   "metadata": {},
   "source": [
    "### 4.5 Compare sites between in vitro fibrils of aSyn and ex vivo fibrils of other amyloids"
   ]
  },
  {
   "cell_type": "code",
   "execution_count": null,
   "id": "e2d7558b-64db-45e2-8efa-b7d16c1e450b",
   "metadata": {},
   "outputs": [],
   "source": [
    "# get the pocket names\n",
    "asyn_invitro_and_other_exvivo_pockets = [p for p in pockets if p.split(\"_\")[0] not in ['MSA', 'LF']]\n",
    "\n",
    "# get the information for the desired pockets\n",
    "df_input_invitro2others = df_input_all.copy()[\n",
    "    (df_input_all.source_pocket.isin(asyn_invitro_and_other_exvivo_pockets)) & \n",
    "    (df_input_all.target_pocket.isin(asyn_invitro_and_other_exvivo_pockets))\n",
    "    ].sort_values(by='combined_fitness_score', ascending=False).reset_index(drop=1)\n",
    "\n",
    "\n",
    "# make sure that the matches are not among ex vivo aSyn fibrils \n",
    "df_input_invitro2others[\"fibril_src_target_match\"] = df_input_invitro2others[\"source_pocket_fibril\"] == df_input_invitro2others[\"target_pocket_fibril\"]\n",
    "df_input_invitro2others = df_input_invitro2others[df_input_invitro2others.fibril_src_target_match == False].reset_index(drop=True)\n",
    "\n",
    "# export\n",
    "df_input_invitro2others.to_csv(os.path.join(asyninvitro2others_out, 'all_asyn_invitro_to_other_amyloids_matches.csv'))\n",
    "\n",
    "df_input_invitro2others.head(2)"
   ]
  },
  {
   "cell_type": "code",
   "execution_count": null,
   "id": "c61b6ec8-da40-41de-8f49-80f3a35d2674",
   "metadata": {},
   "outputs": [],
   "source": [
    "# get the matches that pass the simirity threshold\n",
    "# SSmax : combined_fitness_score >= 0.5\n",
    "# Fdiff : icp_mean_input_diff <= 0.6\n",
    "\n",
    "df_invitro2others_sel = df_input_invitro2others.copy()[(df_input_invitro2others.combined_fitness_score >= 0.5) & (df_input_invitro2others.icp_mean_input_diff <= 0.6)].sort_values(by=\"combined_fitness_score\", ascending=False).reset_index(drop=True)\n",
    "\n",
    "# export\n",
    "df_invitro2others_sel.to_csv(os.path.join(asyninvitro2others_out, 'sel_asyn_invitro_to_other_amyloids_matches.csv'))\n",
    "\n",
    "df_invitro2others_sel"
   ]
  },
  {
   "cell_type": "code",
   "execution_count": null,
   "id": "3bbc3db3-1c1d-49bd-b08f-005503f850a1",
   "metadata": {},
   "outputs": [],
   "source": []
  }
 ],
 "metadata": {
  "kernelspec": {
   "display_name": "fibrilsite",
   "language": "python",
   "name": "fibrilsite"
  },
  "language_info": {
   "codemirror_mode": {
    "name": "ipython",
    "version": 3
   },
   "file_extension": ".py",
   "mimetype": "text/x-python",
   "name": "python",
   "nbconvert_exporter": "python",
   "pygments_lexer": "ipython3",
   "version": "3.6.13"
  }
 },
 "nbformat": 4,
 "nbformat_minor": 5
}
